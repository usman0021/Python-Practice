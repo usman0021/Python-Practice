{
 "cells": [
  {
   "cell_type": "code",
   "execution_count": 1,
   "id": "c154a90b-0b41-43ea-9aad-d9be08193dce",
   "metadata": {},
   "outputs": [
    {
     "ename": "NameError",
     "evalue": "name 'Print' is not defined",
     "output_type": "error",
     "traceback": [
      "\u001b[1;31m---------------------------------------------------------------------------\u001b[0m",
      "\u001b[1;31mNameError\u001b[0m                                 Traceback (most recent call last)",
      "Cell \u001b[1;32mIn[1], line 1\u001b[0m\n\u001b[1;32m----> 1\u001b[0m Print(\u001b[38;5;124m\"\u001b[39m\u001b[38;5;124mMuhammad Usman Khan\u001b[39m\u001b[38;5;124m\"\u001b[39m)\n",
      "\u001b[1;31mNameError\u001b[0m: name 'Print' is not defined"
     ]
    }
   ],
   "source": [
    "Print(\"Muhammad Usman Khan\")"
   ]
  },
  {
   "cell_type": "code",
   "execution_count": 2,
   "id": "9951edb9-91d3-42f1-8aad-f806c550323d",
   "metadata": {},
   "outputs": [
    {
     "name": "stdout",
     "output_type": "stream",
     "text": [
      "Muhammad Usman Khan\n"
     ]
    }
   ],
   "source": [
    "print(\"Muhammad Usman Khan\")"
   ]
  },
  {
   "cell_type": "markdown",
   "id": "3d69554d-fbf8-4911-8c1e-4ca6d1a56370",
   "metadata": {},
   "source": [
    "# Integer"
   ]
  },
  {
   "cell_type": "markdown",
   "id": "b3dec2a1-dd0a-41db-be06-73074343c030",
   "metadata": {},
   "source": [
    "## Integer"
   ]
  },
  {
   "cell_type": "markdown",
   "id": "11ef9280-d071-4dc0-8924-437f89cfcb9b",
   "metadata": {},
   "source": [
    "###Integer"
   ]
  },
  {
   "cell_type": "markdown",
   "id": "432c8d1f-c257-4f9c-a96b-d4b0d691a3bd",
   "metadata": {},
   "source": [
    "### Integer"
   ]
  },
  {
   "cell_type": "markdown",
   "id": "52b761fc-7e83-41c9-92b3-098a120ad06c",
   "metadata": {},
   "source": [
    "##### Integer"
   ]
  },
  {
   "cell_type": "markdown",
   "id": "17e36476-5720-44cb-8761-6276a5eb7e33",
   "metadata": {},
   "source": [
    "###### Integer"
   ]
  },
  {
   "cell_type": "markdown",
   "id": "2cb7b1c6-ccf7-46ed-827f-4e992a98941d",
   "metadata": {},
   "source": [
    "A = 90\n",
    "B = 80"
   ]
  },
  {
   "cell_type": "code",
   "execution_count": 6,
   "id": "a3608349-8e7e-4ba4-8cce-f6c3b9c9c01d",
   "metadata": {},
   "outputs": [
    {
     "name": "stdout",
     "output_type": "stream",
     "text": [
      "A\n"
     ]
    }
   ],
   "source": [
    "print(\"A\")"
   ]
  },
  {
   "cell_type": "code",
   "execution_count": 7,
   "id": "3143e609-e937-47b0-a678-a33160db4517",
   "metadata": {},
   "outputs": [],
   "source": [
    "A = 90"
   ]
  },
  {
   "cell_type": "code",
   "execution_count": 8,
   "id": "1ac1288e-c613-446e-877f-dbd921a9f945",
   "metadata": {},
   "outputs": [
    {
     "name": "stdout",
     "output_type": "stream",
     "text": [
      "A\n"
     ]
    }
   ],
   "source": [
    "print(\"A\")"
   ]
  },
  {
   "cell_type": "code",
   "execution_count": 9,
   "id": "f4066d5c-a104-498f-92d1-1cdb6746962e",
   "metadata": {},
   "outputs": [
    {
     "name": "stdout",
     "output_type": "stream",
     "text": [
      "90\n"
     ]
    }
   ],
   "source": [
    "print(A)"
   ]
  },
  {
   "cell_type": "code",
   "execution_count": 11,
   "id": "96f1e04e-c725-4ffc-9134-ca100db8dadf",
   "metadata": {},
   "outputs": [],
   "source": [
    "name = \"Muhammad Usman\""
   ]
  },
  {
   "cell_type": "code",
   "execution_count": 12,
   "id": "f5352cf2-eaf9-4365-9017-c1b903966898",
   "metadata": {},
   "outputs": [
    {
     "name": "stdout",
     "output_type": "stream",
     "text": [
      "Muhammad Usman\n"
     ]
    }
   ],
   "source": [
    "print(name)"
   ]
  },
  {
   "cell_type": "code",
   "execution_count": 13,
   "id": "22b5f1ea-d6e9-4c73-8ba6-42fa14c3eb90",
   "metadata": {},
   "outputs": [],
   "source": [
    "age = \"32\""
   ]
  },
  {
   "cell_type": "code",
   "execution_count": 14,
   "id": "963f2c23-130e-483f-8c9b-6ca785db3919",
   "metadata": {},
   "outputs": [
    {
     "name": "stdout",
     "output_type": "stream",
     "text": [
      "Muhammad Usman 32\n"
     ]
    }
   ],
   "source": [
    "print(name, age)"
   ]
  },
  {
   "cell_type": "code",
   "execution_count": 15,
   "id": "87189e28-31a4-4b3d-8290-64677ba27388",
   "metadata": {},
   "outputs": [],
   "source": [
    "text = \"Usman Khan\" # string\n",
    "num = 32            # Integer\n",
    "pi = 3.5            # Float\n",
    "is_active = True    # Boolean"
   ]
  },
  {
   "cell_type": "code",
   "execution_count": 16,
   "id": "7e2fc5d9-ab6d-4c2f-b5c1-9294dc94836f",
   "metadata": {},
   "outputs": [
    {
     "name": "stdin",
     "output_type": "stream",
     "text": [
      "Enter your name:  Muhammad Usman Khan\n"
     ]
    }
   ],
   "source": [
    "name = input(\"Enter your name: \")"
   ]
  },
  {
   "cell_type": "code",
   "execution_count": 17,
   "id": "f75f013c-371d-4fad-a4a0-9dfba5c0c563",
   "metadata": {},
   "outputs": [
    {
     "name": "stdout",
     "output_type": "stream",
     "text": [
      "welcome, Muhammad Usman Khan\n"
     ]
    }
   ],
   "source": [
    "print(\"welcome, \" + name)"
   ]
  },
  {
   "cell_type": "code",
   "execution_count": 18,
   "id": "413996ab-f302-4b30-8bc7-78189690f1c3",
   "metadata": {},
   "outputs": [],
   "source": [
    "a = 25"
   ]
  },
  {
   "cell_type": "code",
   "execution_count": 19,
   "id": "aa07010f-2378-475b-b977-b7be87712050",
   "metadata": {},
   "outputs": [],
   "source": [
    "b = 20"
   ]
  },
  {
   "cell_type": "code",
   "execution_count": 20,
   "id": "a38e65a9-61ce-46f8-a0ac-b89db6b29f6a",
   "metadata": {},
   "outputs": [
    {
     "name": "stdout",
     "output_type": "stream",
     "text": [
      "45\n"
     ]
    }
   ],
   "source": [
    "print(a+b)"
   ]
  },
  {
   "cell_type": "code",
   "execution_count": 21,
   "id": "bbe8d447-9640-4a2d-8fa7-9b0e2b61c320",
   "metadata": {},
   "outputs": [
    {
     "name": "stdout",
     "output_type": "stream",
     "text": [
      "5\n"
     ]
    }
   ],
   "source": [
    "print(a-b)"
   ]
  },
  {
   "cell_type": "code",
   "execution_count": 22,
   "id": "9531409c-38f8-4d72-a06c-f68feeeb1a91",
   "metadata": {},
   "outputs": [
    {
     "name": "stdout",
     "output_type": "stream",
     "text": [
      "500\n"
     ]
    }
   ],
   "source": [
    "print(a * b)"
   ]
  },
  {
   "cell_type": "code",
   "execution_count": 23,
   "id": "27592dc0-0dca-4e2c-bc17-d36401885439",
   "metadata": {},
   "outputs": [
    {
     "name": "stdout",
     "output_type": "stream",
     "text": [
      "9094947017729282379150390625\n"
     ]
    }
   ],
   "source": [
    "print(a ** b)"
   ]
  },
  {
   "cell_type": "code",
   "execution_count": 24,
   "id": "e80e3df3-ca98-42cb-a2c1-220b20868238",
   "metadata": {},
   "outputs": [
    {
     "name": "stdout",
     "output_type": "stream",
     "text": [
      "1.25\n"
     ]
    }
   ],
   "source": [
    "print(a / b)"
   ]
  },
  {
   "cell_type": "code",
   "execution_count": 25,
   "id": "1c54d93b-d69a-4464-ac16-4a30e8b18d59",
   "metadata": {},
   "outputs": [
    {
     "name": "stdout",
     "output_type": "stream",
     "text": [
      "5\n"
     ]
    }
   ],
   "source": [
    "print(a % b)"
   ]
  },
  {
   "cell_type": "code",
   "execution_count": 4,
   "id": "3b6bcdd2-8df4-4127-8565-3c6733f0dc82",
   "metadata": {},
   "outputs": [],
   "source": [
    "f = [\"apple\", \"bnana\", \"mango\", \"pineapple\"]"
   ]
  },
  {
   "cell_type": "code",
   "execution_count": 5,
   "id": "6a73e980-bc4d-41bf-a993-f6ace682459d",
   "metadata": {},
   "outputs": [
    {
     "name": "stdout",
     "output_type": "stream",
     "text": [
      "['apple', 'bnana', 'mango', 'pineapple']\n"
     ]
    }
   ],
   "source": [
    "print(f)"
   ]
  },
  {
   "cell_type": "code",
   "execution_count": 7,
   "id": "4c291e3a-f0e4-4dd5-8cc8-f3800ffcc706",
   "metadata": {},
   "outputs": [
    {
     "data": {
      "text/plain": [
       "'mango'"
      ]
     },
     "execution_count": 7,
     "metadata": {},
     "output_type": "execute_result"
    }
   ],
   "source": [
    "f[2]"
   ]
  },
  {
   "cell_type": "code",
   "execution_count": 8,
   "id": "cc6079a7-6c70-4b2c-8836-d0e1ed2fa7da",
   "metadata": {},
   "outputs": [
    {
     "data": {
      "text/plain": [
       "'pineapple'"
      ]
     },
     "execution_count": 8,
     "metadata": {},
     "output_type": "execute_result"
    }
   ],
   "source": [
    "f[-1]"
   ]
  },
  {
   "cell_type": "code",
   "execution_count": 10,
   "id": "f928674c-cb7b-4a04-9883-2dcd5613b760",
   "metadata": {},
   "outputs": [
    {
     "data": {
      "text/plain": [
       "4"
      ]
     },
     "execution_count": 10,
     "metadata": {},
     "output_type": "execute_result"
    }
   ],
   "source": [
    "len(f)"
   ]
  },
  {
   "cell_type": "code",
   "execution_count": 14,
   "id": "f668acf1-78fe-438b-a927-664da4d24832",
   "metadata": {},
   "outputs": [
    {
     "name": "stdout",
     "output_type": "stream",
     "text": [
      "['apple', 'bnana', 'apricot', 'Apricot']\n"
     ]
    }
   ],
   "source": [
    "f[3] = \"Apricot\"\n",
    "print(f)"
   ]
  },
  {
   "cell_type": "code",
   "execution_count": 15,
   "id": "b58be0b3-35a3-460f-bdf9-02df0d6605e5",
   "metadata": {},
   "outputs": [
    {
     "name": "stdout",
     "output_type": "stream",
     "text": [
      "['apple', 'bnana', 'apricot', 'Apricot', 2334]\n"
     ]
    }
   ],
   "source": [
    "f.append(2334)\n",
    "print(f)"
   ]
  },
  {
   "cell_type": "code",
   "execution_count": 16,
   "id": "33761a21-8711-4da4-bb2c-9a11fc535d64",
   "metadata": {},
   "outputs": [
    {
     "ename": "NameError",
     "evalue": "name 'appricot' is not defined",
     "output_type": "error",
     "traceback": [
      "\u001b[1;31m---------------------------------------------------------------------------\u001b[0m",
      "\u001b[1;31mNameError\u001b[0m                                 Traceback (most recent call last)",
      "Cell \u001b[1;32mIn[16], line 1\u001b[0m\n\u001b[1;32m----> 1\u001b[0m f\u001b[38;5;241m.\u001b[39mremove(appricot)\n\u001b[0;32m      2\u001b[0m \u001b[38;5;28mprint\u001b[39m(f)\n",
      "\u001b[1;31mNameError\u001b[0m: name 'appricot' is not defined"
     ]
    }
   ],
   "source": [
    "f.remove(appricot)\n",
    "print(f)"
   ]
  },
  {
   "cell_type": "code",
   "execution_count": 18,
   "id": "1061220f-f4e2-458f-a146-e18d5a681d7a",
   "metadata": {},
   "outputs": [
    {
     "name": "stdout",
     "output_type": "stream",
     "text": [
      "['apple', 'bnana', 'Apricot', 2334]\n"
     ]
    }
   ],
   "source": [
    "f.remove(\"apricot\")\n",
    "print(f)"
   ]
  },
  {
   "cell_type": "code",
   "execution_count": 21,
   "id": "dd6916a3-36ef-4baf-960f-a4413d0807cf",
   "metadata": {},
   "outputs": [
    {
     "name": "stdout",
     "output_type": "stream",
     "text": [
      "[0, 1, 2, 3, 4, 5, 6, 7, 8, 9, 10, 11, 12, 13, 14, 15, 16, 17, 18, 19, 20, 21, 22, 23, 24, 25, 26, 27, 28, 29, 30, 31, 32, 33, 34, 35, 36, 37, 38, 39, 40, 41, 42, 43, 44, 45, 46, 47, 48, 49]\n"
     ]
    }
   ],
   "source": [
    "nums = list(range(50))\n",
    "print(nums)"
   ]
  },
  {
   "cell_type": "code",
   "execution_count": 22,
   "id": "1479d729-4f3d-4c07-8baa-bfad62aa3b39",
   "metadata": {},
   "outputs": [
    {
     "ename": "TypeError",
     "evalue": "'list' object is not callable",
     "output_type": "error",
     "traceback": [
      "\u001b[1;31m---------------------------------------------------------------------------\u001b[0m",
      "\u001b[1;31mTypeError\u001b[0m                                 Traceback (most recent call last)",
      "Cell \u001b[1;32mIn[22], line 1\u001b[0m\n\u001b[1;32m----> 1\u001b[0m nums(\u001b[38;5;241m-\u001b[39m\u001b[38;5;241m1\u001b[39m)\n",
      "\u001b[1;31mTypeError\u001b[0m: 'list' object is not callable"
     ]
    }
   ],
   "source": [
    "nums(-1)"
   ]
  },
  {
   "cell_type": "code",
   "execution_count": 23,
   "id": "aa231e9d-b41d-47de-bda0-af2d23081a09",
   "metadata": {},
   "outputs": [
    {
     "data": {
      "text/plain": [
       "49"
      ]
     },
     "execution_count": 23,
     "metadata": {},
     "output_type": "execute_result"
    }
   ],
   "source": [
    "nums[-1]"
   ]
  },
  {
   "cell_type": "code",
   "execution_count": 24,
   "id": "473d08ae-1928-47b3-be16-ba44867e75ba",
   "metadata": {},
   "outputs": [
    {
     "name": "stdout",
     "output_type": "stream",
     "text": [
      "[0, 5, 10, 15, 20, 25, 30, 35, 40, 45]\n"
     ]
    }
   ],
   "source": [
    "nums = list(range(0, 50, 5))\n",
    "print(nums)"
   ]
  },
  {
   "cell_type": "code",
   "execution_count": 25,
   "id": "aaa3b904-6b92-4ae6-8a98-c3b56c4ec2d0",
   "metadata": {},
   "outputs": [
    {
     "name": "stdout",
     "output_type": "stream",
     "text": [
      "[0, 10, 20, 30, 40]\n"
     ]
    }
   ],
   "source": [
    "nums = list(range(0, 50, 10))\n",
    "print(nums)"
   ]
  },
  {
   "cell_type": "code",
   "execution_count": 26,
   "id": "220321b8-0ad0-4f0a-8826-7ee72a3d9bbc",
   "metadata": {},
   "outputs": [
    {
     "data": {
      "text/plain": [
       "5"
      ]
     },
     "execution_count": 26,
     "metadata": {},
     "output_type": "execute_result"
    }
   ],
   "source": [
    "len(nums)"
   ]
  },
  {
   "cell_type": "code",
   "execution_count": 28,
   "id": "cd9e4b17-7e3c-4045-b5f1-462410b43264",
   "metadata": {},
   "outputs": [
    {
     "name": "stdout",
     "output_type": "stream",
     "text": [
      "[0, 5, 10, 15, 20, 25, 30, 35, 40, 45, 50, 55, 60, 65, 70, 75, 80, 85, 90, 95]\n"
     ]
    }
   ],
   "source": [
    "nums = list(range(0, 100, 5))\n",
    "print(nums)"
   ]
  },
  {
   "cell_type": "code",
   "execution_count": 29,
   "id": "e3d2b9be-8c9b-4217-a92c-ff3714afa55e",
   "metadata": {},
   "outputs": [
    {
     "name": "stdout",
     "output_type": "stream",
     "text": [
      "[5, 15]\n"
     ]
    }
   ],
   "source": [
    "print(nums[1:5:2])"
   ]
  },
  {
   "cell_type": "code",
   "execution_count": 30,
   "id": "adc8cdeb-0c05-47a5-b787-ece50aacaad1",
   "metadata": {},
   "outputs": [
    {
     "name": "stdout",
     "output_type": "stream",
     "text": [
      "[0, 5, 10]\n"
     ]
    }
   ],
   "source": [
    "print(nums[0:3])"
   ]
  },
  {
   "cell_type": "code",
   "execution_count": 31,
   "id": "7bceac36-359e-40d4-960f-476bbe3aea26",
   "metadata": {},
   "outputs": [
    {
     "name": "stdout",
     "output_type": "stream",
     "text": [
      "[0, 5, 10, 15, 20, 25, 30, 35, 40, 45]\n"
     ]
    }
   ],
   "source": [
    "print(nums[0:10])"
   ]
  },
  {
   "cell_type": "code",
   "execution_count": 32,
   "id": "decc46b5-ae58-4fc5-8497-eb58c29e81f8",
   "metadata": {},
   "outputs": [
    {
     "name": "stdout",
     "output_type": "stream",
     "text": [
      "[25, 30, 35, 40, 45]\n"
     ]
    }
   ],
   "source": [
    "print(nums[5:10])"
   ]
  },
  {
   "cell_type": "code",
   "execution_count": 35,
   "id": "47643498-e126-4311-bae6-63fa5abf52b8",
   "metadata": {},
   "outputs": [],
   "source": [
    "f = [\"apple\", \"mango\", \"orange\", \"bnana\"]"
   ]
  },
  {
   "cell_type": "code",
   "execution_count": 36,
   "id": "be1c864b-ebbc-47c4-9593-4f5e9a8e8da8",
   "metadata": {},
   "outputs": [
    {
     "name": "stdout",
     "output_type": "stream",
     "text": [
      "['apple', 'mango', 'orange', 'bnana']\n"
     ]
    }
   ],
   "source": [
    "print(f)"
   ]
  },
  {
   "cell_type": "code",
   "execution_count": 38,
   "id": "831efab2-9607-4f93-9104-3584abf01488",
   "metadata": {},
   "outputs": [
    {
     "name": "stdout",
     "output_type": "stream",
     "text": [
      "['orange']\n"
     ]
    }
   ],
   "source": [
    "print(f[2:3])"
   ]
  },
  {
   "cell_type": "code",
   "execution_count": 40,
   "id": "2ecc3279-14ec-4ae1-84f0-ee104b979905",
   "metadata": {},
   "outputs": [
    {
     "name": "stdout",
     "output_type": "stream",
     "text": [
      "[40, 45, 50, 55, 60, 65, 70, 75, 80, 85, 90, 95]\n"
     ]
    }
   ],
   "source": [
    "print(nums[8:])"
   ]
  },
  {
   "cell_type": "code",
   "execution_count": 42,
   "id": "e284bfe2-b8b9-4fb7-8d63-b8e35718c8b9",
   "metadata": {},
   "outputs": [
    {
     "name": "stdout",
     "output_type": "stream",
     "text": [
      "[95, 90, 85, 80, 75, 70, 65, 60, 55, 50, 45, 40, 35, 30, 25, 20, 15, 10, 5, 0]\n"
     ]
    }
   ],
   "source": [
    "print(nums[::-1])"
   ]
  },
  {
   "cell_type": "markdown",
   "id": "ea66b44d-58fb-433e-a02b-712705cf9ab3",
   "metadata": {},
   "source": [
    "## Practice on Tuples"
   ]
  },
  {
   "cell_type": "code",
   "execution_count": 1,
   "id": "c656c717-d6f0-4d36-874b-4a62dc4d2c8a",
   "metadata": {},
   "outputs": [],
   "source": [
    "fruits = (\"apple\", \"bnana\", \"mango\", \"pineapple\")"
   ]
  },
  {
   "cell_type": "code",
   "execution_count": 2,
   "id": "43d11399-dd25-48a0-9674-7ef3aafeba49",
   "metadata": {},
   "outputs": [
    {
     "name": "stdout",
     "output_type": "stream",
     "text": [
      "('apple', 'bnana', 'mango', 'pineapple')\n"
     ]
    }
   ],
   "source": [
    "print(fruits)"
   ]
  },
  {
   "cell_type": "code",
   "execution_count": 3,
   "id": "1b28f478-1890-4374-bf64-951f653aa1c5",
   "metadata": {},
   "outputs": [
    {
     "name": "stdout",
     "output_type": "stream",
     "text": [
      "apple\n"
     ]
    }
   ],
   "source": [
    "print(fruits[0])"
   ]
  },
  {
   "cell_type": "code",
   "execution_count": 4,
   "id": "39db3581-7e6d-4509-bb8b-631f6369737f",
   "metadata": {},
   "outputs": [
    {
     "name": "stdout",
     "output_type": "stream",
     "text": [
      "mango\n"
     ]
    }
   ],
   "source": [
    "print(fruits[-2])"
   ]
  },
  {
   "cell_type": "code",
   "execution_count": 5,
   "id": "c897b133-f4ec-494b-94ce-323df753a3c3",
   "metadata": {},
   "outputs": [
    {
     "name": "stdout",
     "output_type": "stream",
     "text": [
      "('bnana', 'mango')\n"
     ]
    }
   ],
   "source": [
    "print(fruits[1:3])"
   ]
  },
  {
   "cell_type": "markdown",
   "id": "fd844907-82b9-4716-88bc-d1c82a4f5eed",
   "metadata": {},
   "source": [
    "##Tuple with Different Data Types"
   ]
  },
  {
   "cell_type": "code",
   "execution_count": 7,
   "id": "350b4332-b6a2-450b-8029-8e0a268ecb05",
   "metadata": {},
   "outputs": [
    {
     "name": "stdout",
     "output_type": "stream",
     "text": [
      "(0, 5, 10, 15, 20, 25, 30, 35, 40, 45, 50, 55, 60, 65, 70, 75, 80, 85, 90, 95)\n"
     ]
    }
   ],
   "source": [
    "nums = tuple(range(0, 100, 5))\n",
    "print(nums)"
   ]
  },
  {
   "cell_type": "code",
   "execution_count": 8,
   "id": "6aa94efd-893e-4a0a-90b5-f776028daacb",
   "metadata": {},
   "outputs": [
    {
     "name": "stdout",
     "output_type": "stream",
     "text": [
      "(5, 15)\n"
     ]
    }
   ],
   "source": [
    "print(nums[1:5:2])"
   ]
  },
  {
   "cell_type": "code",
   "execution_count": 9,
   "id": "23842bb2-042b-4bed-b033-1ce8c50c3e7a",
   "metadata": {},
   "outputs": [
    {
     "name": "stdout",
     "output_type": "stream",
     "text": [
      "(0, 5, 10)\n"
     ]
    }
   ],
   "source": [
    "print(nums[0:3])"
   ]
  },
  {
   "cell_type": "code",
   "execution_count": 10,
   "id": "5f87c036-d27b-4978-9a89-ab500f20796d",
   "metadata": {},
   "outputs": [
    {
     "name": "stdout",
     "output_type": "stream",
     "text": [
      "(0, 5, 10, 15, 20, 25, 30, 35, 40, 45)\n"
     ]
    }
   ],
   "source": [
    "print(nums[0:10])"
   ]
  },
  {
   "cell_type": "code",
   "execution_count": 11,
   "id": "137d31cd-d627-4554-9510-e42aa405b879",
   "metadata": {},
   "outputs": [
    {
     "name": "stdout",
     "output_type": "stream",
     "text": [
      "(25, 30, 35, 40, 45)\n"
     ]
    }
   ],
   "source": [
    "print(nums[5:10])"
   ]
  },
  {
   "cell_type": "code",
   "execution_count": 12,
   "id": "d0743de5-22bb-4c40-b9e9-28f14a321e1e",
   "metadata": {},
   "outputs": [
    {
     "name": "stdout",
     "output_type": "stream",
     "text": [
      "('apple', 'mango', 'orange', 'bnana')\n"
     ]
    }
   ],
   "source": [
    "fruits = (\"apple\", \"mango\", \"orange\", \"bnana\")\n",
    "print(fruits)"
   ]
  },
  {
   "cell_type": "code",
   "execution_count": 13,
   "id": "466154bf-5966-4453-9221-4f05599ed883",
   "metadata": {},
   "outputs": [
    {
     "name": "stdout",
     "output_type": "stream",
     "text": [
      "('orange',)\n"
     ]
    }
   ],
   "source": [
    "print(fruits[2:3])"
   ]
  },
  {
   "cell_type": "code",
   "execution_count": 14,
   "id": "d39e409b-aa7d-497e-8fb1-800b2d3dca0a",
   "metadata": {},
   "outputs": [
    {
     "name": "stdout",
     "output_type": "stream",
     "text": [
      "(40, 45, 50, 55, 60, 65, 70, 75, 80, 85, 90, 95)\n"
     ]
    }
   ],
   "source": [
    "print(nums[8:])"
   ]
  },
  {
   "cell_type": "code",
   "execution_count": 15,
   "id": "725f3bad-5244-4e9a-bd5e-3d86ce9fd0e8",
   "metadata": {},
   "outputs": [
    {
     "name": "stdout",
     "output_type": "stream",
     "text": [
      "(95, 90, 85, 80, 75, 70, 65, 60, 55, 50, 45, 40, 35, 30, 25, 20, 15, 10, 5, 0)\n"
     ]
    }
   ],
   "source": [
    "print(nums[::-1])"
   ]
  },
  {
   "cell_type": "code",
   "execution_count": 16,
   "id": "e76dd319-c195-43c8-8e6b-0072ab5e6309",
   "metadata": {},
   "outputs": [],
   "source": [
    "mixed = (\"John\", 25, 5.9, True)"
   ]
  },
  {
   "cell_type": "code",
   "execution_count": 17,
   "id": "ca414e79-9e6b-474e-a0cc-c4666b02839f",
   "metadata": {},
   "outputs": [
    {
     "name": "stdout",
     "output_type": "stream",
     "text": [
      "('John', 25, 5.9, True)\n"
     ]
    }
   ],
   "source": [
    "print(mixed)"
   ]
  },
  {
   "cell_type": "code",
   "execution_count": 18,
   "id": "54751a57-e622-4285-b4e0-33a639e58d84",
   "metadata": {},
   "outputs": [
    {
     "name": "stdout",
     "output_type": "stream",
     "text": [
      "Color: red\n",
      "Color: green\n",
      "Color: blue\n"
     ]
    }
   ],
   "source": [
    "colors = (\"red\", \"green\", \"blue\")\n",
    "for color in colors:\n",
    "    print(\"Color:\", color)"
   ]
  },
  {
   "cell_type": "code",
   "execution_count": 19,
   "id": "1eb1705e-bf60-476d-9b0e-3c6429ce988e",
   "metadata": {},
   "outputs": [],
   "source": [
    "numbers = (10, 20, 30, 40)"
   ]
  },
  {
   "cell_type": "code",
   "execution_count": 20,
   "id": "9f88578f-55a1-4cf5-a0a8-ec170a441f53",
   "metadata": {},
   "outputs": [
    {
     "name": "stdout",
     "output_type": "stream",
     "text": [
      "True\n"
     ]
    }
   ],
   "source": [
    "print(20 in numbers)"
   ]
  },
  {
   "cell_type": "code",
   "execution_count": 21,
   "id": "20e70526-b7d2-4d98-b29a-0e447a912ffa",
   "metadata": {},
   "outputs": [
    {
     "name": "stdout",
     "output_type": "stream",
     "text": [
      "False\n"
     ]
    }
   ],
   "source": [
    "print(100 in numbers)"
   ]
  },
  {
   "cell_type": "code",
   "execution_count": 22,
   "id": "d57a2c59-317c-4b48-8dd9-0f6031f3636f",
   "metadata": {},
   "outputs": [],
   "source": [
    "nums = (1, 2, 2, 3, 4, 2)"
   ]
  },
  {
   "cell_type": "code",
   "execution_count": 23,
   "id": "a48e7739-31bb-40b1-ba6e-c666dfed6186",
   "metadata": {},
   "outputs": [
    {
     "name": "stdout",
     "output_type": "stream",
     "text": [
      "3\n"
     ]
    }
   ],
   "source": [
    "print(nums.count(2))"
   ]
  },
  {
   "cell_type": "code",
   "execution_count": 24,
   "id": "3834935f-d5fe-4e58-94b2-9e58c1c5efc7",
   "metadata": {},
   "outputs": [
    {
     "name": "stdout",
     "output_type": "stream",
     "text": [
      "3\n"
     ]
    }
   ],
   "source": [
    "print(nums.index(3))"
   ]
  },
  {
   "cell_type": "code",
   "execution_count": 25,
   "id": "7b2b9cd2-5ec8-4f28-9de0-fed93decd26a",
   "metadata": {},
   "outputs": [],
   "source": [
    "tup = (1, 2, 3)"
   ]
  },
  {
   "cell_type": "code",
   "execution_count": 26,
   "id": "577091c5-f997-4af6-b9a2-7b82a58b483a",
   "metadata": {},
   "outputs": [],
   "source": [
    "lst = list(tup)"
   ]
  },
  {
   "cell_type": "code",
   "execution_count": 27,
   "id": "988d2f77-79c0-4a97-bb0a-075e79f033a8",
   "metadata": {},
   "outputs": [],
   "source": [
    "lst.append(4)"
   ]
  },
  {
   "cell_type": "code",
   "execution_count": 28,
   "id": "6f4910f8-3b4b-49ff-ac3b-0ad0c282a024",
   "metadata": {},
   "outputs": [
    {
     "name": "stdout",
     "output_type": "stream",
     "text": [
      "[1, 2, 3, 4]\n"
     ]
    }
   ],
   "source": [
    "print(lst)"
   ]
  },
  {
   "cell_type": "code",
   "execution_count": 29,
   "id": "a5c6db03-a647-4d3e-97c7-e3864290d71c",
   "metadata": {},
   "outputs": [
    {
     "name": "stdout",
     "output_type": "stream",
     "text": [
      "(1, 2, 3, 4)\n"
     ]
    }
   ],
   "source": [
    "new_tuple = tuple(lst)\n",
    "print(new_tuple)"
   ]
  },
  {
   "cell_type": "code",
   "execution_count": 31,
   "id": "43e02f22-65c9-44c5-9dc5-09a7c11d4ca6",
   "metadata": {},
   "outputs": [],
   "source": [
    "person = (\"Alice\", 22, \"Engineer\")\n",
    "name, age, job = person"
   ]
  },
  {
   "cell_type": "code",
   "execution_count": 32,
   "id": "e3b625a2-363c-4b84-a933-32a6b3e0de33",
   "metadata": {},
   "outputs": [
    {
     "name": "stdout",
     "output_type": "stream",
     "text": [
      "Alice\n",
      "22\n",
      "Engineer\n"
     ]
    }
   ],
   "source": [
    "print(name)\n",
    "print(age)\n",
    "print(job)"
   ]
  },
  {
   "cell_type": "code",
   "execution_count": null,
   "id": "bf001ad9-3cf4-4843-a922-43614811c073",
   "metadata": {},
   "outputs": [],
   "source": []
  }
 ],
 "metadata": {
  "kernelspec": {
   "display_name": "Python 3 (ipykernel)",
   "language": "python",
   "name": "python3"
  },
  "language_info": {
   "codemirror_mode": {
    "name": "ipython",
    "version": 3
   },
   "file_extension": ".py",
   "mimetype": "text/x-python",
   "name": "python",
   "nbconvert_exporter": "python",
   "pygments_lexer": "ipython3",
   "version": "3.12.7"
  }
 },
 "nbformat": 4,
 "nbformat_minor": 5
}
